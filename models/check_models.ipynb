{
 "cells": [
  {
   "cell_type": "code",
   "execution_count": 1,
   "metadata": {},
   "outputs": [
    {
     "name": "stderr",
     "output_type": "stream",
     "text": [
      "/home/rodrigo/anaconda3/envs/py39/lib/python3.9/site-packages/scipy/__init__.py:146: UserWarning: A NumPy version >=1.16.5 and <1.23.0 is required for this version of SciPy (detected version 1.23.1\n",
      "  warnings.warn(f\"A NumPy version >={np_minversion} and <{np_maxversion}\"\n"
     ]
    },
    {
     "name": "stdout",
     "output_type": "stream",
     "text": [
      "Model: \"model\"\n",
      "_________________________________________________________________\n",
      " Layer (type)                Output Shape              Param #   \n",
      "=================================================================\n",
      " input_1 (InputLayer)        [(None, 1024, 1, 2)]      0         \n",
      "                                                                 \n",
      " comp_conv2d (CompConv2D)    (None, 1024, 1, 8)        48        \n",
      "                                                                 \n",
      " comp_conv2d_1 (CompConv2D)  (None, 1024, 1, 8)        168       \n",
      "                                                                 \n",
      " max_pooling2d (MaxPooling2D  (None, 512, 1, 8)        0         \n",
      " )                                                               \n",
      "                                                                 \n",
      " comp_conv2d_2 (CompConv2D)  (None, 512, 1, 16)        336       \n",
      "                                                                 \n",
      " comp_conv2d_3 (CompConv2D)  (None, 512, 1, 16)        656       \n",
      "                                                                 \n",
      " max_pooling2d_1 (MaxPooling  (None, 256, 1, 16)       0         \n",
      " 2D)                                                             \n",
      "                                                                 \n",
      " comp_conv2d_4 (CompConv2D)  (None, 256, 1, 32)        1312      \n",
      "                                                                 \n",
      " comp_conv2d_5 (CompConv2D)  (None, 256, 1, 32)        2592      \n",
      "                                                                 \n",
      " max_pooling2d_2 (MaxPooling  (None, 128, 1, 32)       0         \n",
      " 2D)                                                             \n",
      "                                                                 \n",
      " comp_conv2d_6 (CompConv2D)  (None, 128, 1, 64)        5184      \n",
      "                                                                 \n",
      " comp_conv2d_7 (CompConv2D)  (None, 128, 1, 64)        10304     \n",
      "                                                                 \n",
      " max_pooling2d_3 (MaxPooling  (None, 64, 1, 64)        0         \n",
      " 2D)                                                             \n",
      "                                                                 \n",
      " comp_conv2d_8 (CompConv2D)  (None, 64, 1, 128)        20608     \n",
      "                                                                 \n",
      " comp_conv2d_9 (CompConv2D)  (None, 64, 1, 128)        41088     \n",
      "                                                                 \n",
      " permute (Permute)           (None, 1, 64, 128)        0         \n",
      "                                                                 \n",
      " reshape (Reshape)           (None, 1, 8192, 1)        0         \n",
      "                                                                 \n",
      " permute_1 (Permute)         (None, 1, 1, 8192)        0         \n",
      "                                                                 \n",
      " dense (Dense)               (None, 1, 1, 1024)        8389632   \n",
      "                                                                 \n",
      " dense_1 (Dense)             (None, 1, 1, 512)         524800    \n",
      "                                                                 \n",
      " dense_2 (Dense)             (None, 1, 1, 1)           513       \n",
      "                                                                 \n",
      "=================================================================\n",
      "Total params: 8,997,241\n",
      "Trainable params: 8,997,241\n",
      "Non-trainable params: 0\n",
      "_________________________________________________________________\n",
      "None\n"
     ]
    },
    {
     "name": "stderr",
     "output_type": "stream",
     "text": [
      "2022-09-13 23:44:56.234508: I tensorflow/core/platform/cpu_feature_guard.cc:151] This TensorFlow binary is optimized with oneAPI Deep Neural Network Library (oneDNN) to use the following CPU instructions in performance-critical operations:  SSE4.1 SSE4.2 AVX AVX2 AVX512F FMA\n",
      "To enable them in other operations, rebuild TensorFlow with the appropriate compiler flags.\n",
      "2022-09-13 23:44:56.235713: I tensorflow/core/common_runtime/process_util.cc:146] Creating new thread pool with default inter op setting: 2. Tune using inter_op_parallelism_threads for best performance.\n"
     ]
    }
   ],
   "source": [
    "import complex\n",
    "pipe = complex.ComplexModel()\n",
    "pipe.print_model_summary()"
   ]
  },
  {
   "cell_type": "code",
   "execution_count": 2,
   "metadata": {},
   "outputs": [
    {
     "name": "stdout",
     "output_type": "stream",
     "text": [
      "Model: \"model_1\"\n",
      "_________________________________________________________________\n",
      " Layer (type)                Output Shape              Param #   \n",
      "=================================================================\n",
      " input_2 (InputLayer)        [(None, 1024, 2)]         0         \n",
      "                                                                 \n",
      " conv1d_4 (Conv1D)           (None, 1024, 16)          176       \n",
      "                                                                 \n",
      " conv1d_5 (Conv1D)           (None, 1024, 16)          1296      \n",
      "                                                                 \n",
      " max_pooling1d_2 (MaxPooling  (None, 512, 16)          0         \n",
      " 1D)                                                             \n",
      "                                                                 \n",
      " conv1d_6 (Conv1D)           (None, 512, 32)           2592      \n",
      "                                                                 \n",
      " conv1d_7 (Conv1D)           (None, 512, 32)           5152      \n",
      "                                                                 \n",
      " max_pooling1d_3 (MaxPooling  (None, 256, 32)          0         \n",
      " 1D)                                                             \n",
      "                                                                 \n",
      " flatten_1 (Flatten)         (None, 8192)              0         \n",
      "                                                                 \n",
      " dense_3 (Dense)             (None, 1024)              8389632   \n",
      "                                                                 \n",
      " dense_4 (Dense)             (None, 512)               524800    \n",
      "                                                                 \n",
      " dense_5 (Dense)             (None, 1)                 513       \n",
      "                                                                 \n",
      "=================================================================\n",
      "Total params: 8,924,161\n",
      "Trainable params: 8,924,161\n",
      "Non-trainable params: 0\n",
      "_________________________________________________________________\n",
      "None\n"
     ]
    }
   ],
   "source": [
    "import our_simp_comp\n",
    "pipe = our_simp_comp.ComplexModel()\n",
    "pipe.print_model_summary()"
   ]
  },
  {
   "cell_type": "code",
   "execution_count": 1,
   "metadata": {},
   "outputs": [
    {
     "name": "stdout",
     "output_type": "stream",
     "text": [
      "Model: \"model\"\n",
      "_________________________________________________________________\n",
      " Layer (type)                Output Shape              Param #   \n",
      "=================================================================\n",
      " input_1 (InputLayer)        [(None, 1024, 2)]         0         \n",
      "                                                                 \n",
      " comp_conv1d (CompConv1D)    (None, 1024, 16)          96        \n",
      "                                                                 \n",
      " comp_conv1d_1 (CompConv1D)  (None, 1024, 16)          656       \n",
      "                                                                 \n",
      " dropout (Dropout)           (None, 1024, 16)          0         \n",
      "                                                                 \n",
      " max_pooling1d (MaxPooling1D  (None, 512, 16)          0         \n",
      " )                                                               \n",
      "                                                                 \n",
      " comp_conv1d_2 (CompConv1D)  (None, 512, 32)           1312      \n",
      "                                                                 \n",
      " comp_conv1d_3 (CompConv1D)  (None, 512, 32)           2592      \n",
      "                                                                 \n",
      " dropout_1 (Dropout)         (None, 512, 32)           0         \n",
      "                                                                 \n",
      " max_pooling1d_1 (MaxPooling  (None, 256, 32)          0         \n",
      " 1D)                                                             \n",
      "                                                                 \n",
      " comp_conv1d_4 (CompConv1D)  (None, 256, 64)           5184      \n",
      "                                                                 \n",
      " comp_conv1d_5 (CompConv1D)  (None, 256, 64)           10304     \n",
      "                                                                 \n",
      " dropout_2 (Dropout)         (None, 256, 64)           0         \n",
      "                                                                 \n",
      " max_pooling1d_2 (MaxPooling  (None, 128, 64)          0         \n",
      " 1D)                                                             \n",
      "                                                                 \n",
      " flatten (Flatten)           (None, 8192)              0         \n",
      "                                                                 \n",
      " dense (Dense)               (None, 1024)              8389632   \n",
      "                                                                 \n",
      " dense_1 (Dense)             (None, 512)               524800    \n",
      "                                                                 \n",
      " dense_2 (Dense)             (None, 1)                 513       \n",
      "                                                                 \n",
      "=================================================================\n",
      "Total params: 8,935,089\n",
      "Trainable params: 8,935,089\n",
      "Non-trainable params: 0\n",
      "_________________________________________________________________\n",
      "None\n"
     ]
    }
   ],
   "source": [
    "import complex_3l_drop\n",
    "pipe = complex_3l_drop.ComplexModel()\n",
    "pipe.print_model_summary()"
   ]
  },
  {
   "cell_type": "code",
   "execution_count": 1,
   "metadata": {},
   "outputs": [
    {
     "name": "stderr",
     "output_type": "stream",
     "text": [
      "2022-12-15 06:01:45.837288: I tensorflow/core/platform/cpu_feature_guard.cc:193] This TensorFlow binary is optimized with oneAPI Deep Neural Network Library (oneDNN) to use the following CPU instructions in performance-critical operations:  SSE4.1 SSE4.2 AVX AVX2 AVX512F AVX512_VNNI FMA\n",
      "To enable them in other operations, rebuild TensorFlow with the appropriate compiler flags.\n",
      "2022-12-15 06:01:45.950448: I tensorflow/core/util/util.cc:169] oneDNN custom operations are on. You may see slightly different numerical results due to floating-point round-off errors from different computation orders. To turn them off, set the environment variable `TF_ENABLE_ONEDNN_OPTS=0`.\n"
     ]
    },
    {
     "name": "stdout",
     "output_type": "stream",
     "text": [
      "Model: \"model\"\n",
      "_________________________________________________________________\n",
      " Layer (type)                Output Shape              Param #   \n",
      "=================================================================\n",
      " input_1 (InputLayer)        [(None, 1024, 1)]         0         \n",
      "                                                                 \n",
      " conv1d (Conv1D)             (None, 1024, 16)          64        \n",
      "                                                                 \n",
      " max_pooling1d (MaxPooling1D  (None, 512, 16)          0         \n",
      " )                                                               \n",
      "                                                                 \n",
      " conv1d_1 (Conv1D)           (None, 512, 32)           1568      \n",
      "                                                                 \n",
      " max_pooling1d_1 (MaxPooling  (None, 256, 32)          0         \n",
      " 1D)                                                             \n",
      "                                                                 \n",
      " flatten (Flatten)           (None, 8192)              0         \n",
      "                                                                 \n",
      " dense (Dense)               (None, 1024)              8389632   \n",
      "                                                                 \n",
      " dense_1 (Dense)             (None, 512)               524800    \n",
      "                                                                 \n",
      " dense_2 (Dense)             (None, 1)                 513       \n",
      "                                                                 \n",
      "=================================================================\n",
      "Total params: 8,916,577\n",
      "Trainable params: 8,916,577\n",
      "Non-trainable params: 0\n",
      "_________________________________________________________________\n",
      "None\n"
     ]
    },
    {
     "name": "stderr",
     "output_type": "stream",
     "text": [
      "2022-12-15 06:01:47.383281: I tensorflow/stream_executor/cuda/cuda_gpu_executor.cc:980] successful NUMA node read from SysFS had negative value (-1), but there must be at least one NUMA node, so returning NUMA node zero\n",
      "2022-12-15 06:01:47.396787: I tensorflow/stream_executor/cuda/cuda_gpu_executor.cc:980] successful NUMA node read from SysFS had negative value (-1), but there must be at least one NUMA node, so returning NUMA node zero\n",
      "2022-12-15 06:01:47.396897: I tensorflow/stream_executor/cuda/cuda_gpu_executor.cc:980] successful NUMA node read from SysFS had negative value (-1), but there must be at least one NUMA node, so returning NUMA node zero\n",
      "2022-12-15 06:01:47.397258: I tensorflow/core/platform/cpu_feature_guard.cc:193] This TensorFlow binary is optimized with oneAPI Deep Neural Network Library (oneDNN) to use the following CPU instructions in performance-critical operations:  SSE4.1 SSE4.2 AVX AVX2 AVX512F AVX512_VNNI FMA\n",
      "To enable them in other operations, rebuild TensorFlow with the appropriate compiler flags.\n",
      "2022-12-15 06:01:47.398278: I tensorflow/stream_executor/cuda/cuda_gpu_executor.cc:980] successful NUMA node read from SysFS had negative value (-1), but there must be at least one NUMA node, so returning NUMA node zero\n",
      "2022-12-15 06:01:47.398375: I tensorflow/stream_executor/cuda/cuda_gpu_executor.cc:980] successful NUMA node read from SysFS had negative value (-1), but there must be at least one NUMA node, so returning NUMA node zero\n",
      "2022-12-15 06:01:47.398448: I tensorflow/stream_executor/cuda/cuda_gpu_executor.cc:980] successful NUMA node read from SysFS had negative value (-1), but there must be at least one NUMA node, so returning NUMA node zero\n",
      "2022-12-15 06:01:47.872894: I tensorflow/stream_executor/cuda/cuda_gpu_executor.cc:980] successful NUMA node read from SysFS had negative value (-1), but there must be at least one NUMA node, so returning NUMA node zero\n",
      "2022-12-15 06:01:47.873017: I tensorflow/stream_executor/cuda/cuda_gpu_executor.cc:980] successful NUMA node read from SysFS had negative value (-1), but there must be at least one NUMA node, so returning NUMA node zero\n",
      "2022-12-15 06:01:47.873094: I tensorflow/stream_executor/cuda/cuda_gpu_executor.cc:980] successful NUMA node read from SysFS had negative value (-1), but there must be at least one NUMA node, so returning NUMA node zero\n",
      "2022-12-15 06:01:47.873292: I tensorflow/core/common_runtime/gpu/gpu_device.cc:1616] Created device /job:localhost/replica:0/task:0/device:GPU:0 with 123 MB memory:  -> device: 0, name: NVIDIA GeForce RTX 3080 Laptop GPU, pci bus id: 0000:01:00.0, compute capability: 8.6\n"
     ]
    }
   ],
   "source": [
    "import control_ma\n",
    "pipe = control_ma.Control()\n",
    "pipe.print_model_summary()"
   ]
  },
  {
   "cell_type": "code",
   "execution_count": 1,
   "metadata": {},
   "outputs": [
    {
     "name": "stderr",
     "output_type": "stream",
     "text": [
      "/home/rodrigo/anaconda3/envs/py39/lib/python3.9/site-packages/scipy/__init__.py:146: UserWarning: A NumPy version >=1.16.5 and <1.23.0 is required for this version of SciPy (detected version 1.23.1\n",
      "  warnings.warn(f\"A NumPy version >={np_minversion} and <{np_maxversion}\"\n"
     ]
    },
    {
     "name": "stdout",
     "output_type": "stream",
     "text": [
      "Model: \"model\"\n",
      "_________________________________________________________________\n",
      " Layer (type)                Output Shape              Param #   \n",
      "=================================================================\n",
      " input_1 (InputLayer)        [(None, 1024, 1)]         0         \n",
      "                                                                 \n",
      " flatten (Flatten)           (None, 1024)              0         \n",
      "                                                                 \n",
      " dense (Dense)               (None, 3328)              3411200   \n",
      "                                                                 \n",
      " dense_1 (Dense)             (None, 1664)              5539456   \n",
      "                                                                 \n",
      " dense_2 (Dense)             (None, 1)                 1665      \n",
      "                                                                 \n",
      "=================================================================\n",
      "Total params: 8,952,321\n",
      "Trainable params: 8,952,321\n",
      "Non-trainable params: 0\n",
      "_________________________________________________________________\n",
      "None\n"
     ]
    },
    {
     "name": "stderr",
     "output_type": "stream",
     "text": [
      "2022-09-13 23:46:49.573977: I tensorflow/core/platform/cpu_feature_guard.cc:151] This TensorFlow binary is optimized with oneAPI Deep Neural Network Library (oneDNN) to use the following CPU instructions in performance-critical operations:  SSE4.1 SSE4.2 AVX AVX2 AVX512F FMA\n",
      "To enable them in other operations, rebuild TensorFlow with the appropriate compiler flags.\n",
      "2022-09-13 23:46:49.575135: I tensorflow/core/common_runtime/process_util.cc:146] Creating new thread pool with default inter op setting: 2. Tune using inter_op_parallelism_threads for best performance.\n"
     ]
    }
   ],
   "source": [
    "import control_tapper\n",
    "pipe = control_tapper.Control()\n",
    "pipe.print_model_summary()"
   ]
  }
 ],
 "metadata": {
  "kernelspec": {
   "display_name": "tf2",
   "language": "python",
   "name": "python3"
  },
  "language_info": {
   "codemirror_mode": {
    "name": "ipython",
    "version": 3
   },
   "file_extension": ".py",
   "mimetype": "text/x-python",
   "name": "python",
   "nbconvert_exporter": "python",
   "pygments_lexer": "ipython3",
   "version": "3.10.8"
  },
  "orig_nbformat": 4,
  "vscode": {
   "interpreter": {
    "hash": "cac9b1749f3703666049b695d56da759c9b2e75ffaa68e2362f8136c1b505553"
   }
  }
 },
 "nbformat": 4,
 "nbformat_minor": 2
}
