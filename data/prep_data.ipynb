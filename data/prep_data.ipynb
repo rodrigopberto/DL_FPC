{
 "cells": [
  {
   "cell_type": "code",
   "execution_count": 1,
   "metadata": {},
   "outputs": [],
   "source": [
    "import numpy as np\n",
    "import math\n",
    "import matplotlib.pyplot as plt"
   ]
  },
  {
   "cell_type": "code",
   "execution_count": 4,
   "metadata": {},
   "outputs": [],
   "source": [
    "in_prefix=\"noisy_datasets\"\n",
    "out_prefix=\"final_data\"\n",
    "suffix=\"sup_10\""
   ]
  },
  {
   "cell_type": "code",
   "execution_count": 5,
   "metadata": {},
   "outputs": [],
   "source": [
    "x = np.load(f\"{in_prefix}/x_data_{suffix}.npy\")[:,:,:,:]\n",
    "y_freq = np.load(f\"{in_prefix}/y_dataFreq_{suffix}.npy\")[:,:,:,:]\n",
    "y_phase = np.load(f\"{in_prefix}/y_dataPhase_{suffix}.npy\")[:,:,:,:]\n",
    "ppm = np.load(f\"{in_prefix}/ppm_{suffix}.npy\")\n",
    "t = np.load(f\"{in_prefix}/t_{suffix}.npy\")"
   ]
  },
  {
   "cell_type": "code",
   "execution_count": 6,
   "metadata": {},
   "outputs": [],
   "source": [
    "x_fid = np.fft.fft(np.fft.ifftshift(x,axes=1),axis=1)\n",
    "x_fid_freq_corrected = x_fid*np.exp(1j*t.reshape(1,-1,1,1)*y_freq*2*math.pi)\n",
    "\n",
    "x_phase = np.fft.fftshift(np.fft.ifft(x_fid_freq_corrected,axis=1),axes=1)"
   ]
  },
  {
   "cell_type": "code",
   "execution_count": 7,
   "metadata": {},
   "outputs": [],
   "source": [
    "x = x[:,512:1536,:,:]\n",
    "x_phase = x_phase[:,512:1536,:,:]\n",
    "y = np.concatenate([y_freq,y_phase],axis=1)\n",
    "np.save(f\"{out_prefix}/x_data_1024_{suffix}.npy\",x)\n",
    "np.save(f\"{out_prefix}/x_data_phase_1024_{suffix}.npy\",x_phase)\n",
    "np.save(f\"{out_prefix}/y_data_1024_{suffix}.npy\",y)"
   ]
  },
  {
   "cell_type": "code",
   "execution_count": null,
   "metadata": {},
   "outputs": [],
   "source": [
    "######Prepare to join data of all snr in unsup_x and sup_x"
   ]
  },
  {
   "cell_type": "code",
   "execution_count": 1,
   "metadata": {},
   "outputs": [],
   "source": [
    "import numpy as np\n",
    "import math\n",
    "import matplotlib.pyplot as plt\n",
    "\n",
    "in_prefix=\"noisy_datasets\"\n",
    "out_prefix=\"final_data\""
   ]
  },
  {
   "cell_type": "code",
   "execution_count": 2,
   "metadata": {},
   "outputs": [],
   "source": [
    "suffix_a = \"sup\""
   ]
  },
  {
   "cell_type": "code",
   "execution_count": 3,
   "metadata": {},
   "outputs": [],
   "source": [
    "indexes = np.arange(0,250)\n",
    "np.random.shuffle(indexes)\n",
    "\n",
    "indexes_list = [indexes[:84],indexes[84:(84+83)],indexes[(84+83):]]\n",
    "suffixes_b = [\"10\",\"5\",\"2_5\"]\n",
    "\n",
    "xs = []\n",
    "y_freqs=[]\n",
    "y_phases=[]\n",
    "\n",
    "for i in range(3):\n",
    "    suffix_b = suffixes_b[i]\n",
    "    indexes = indexes_list[i]\n",
    "\n",
    "    x = np.load(f\"{in_prefix}/x_data_{suffix_a}_{suffix_b}.npy\")[indexes]\n",
    "    y_freq = np.load(f\"{in_prefix}/y_dataFreq_{suffix_a}_{suffix_b}.npy\")[indexes]\n",
    "    y_phase = np.load(f\"{in_prefix}/y_dataPhase_{suffix_a}_{suffix_b}.npy\")[indexes]\n",
    "    xs.append(x)\n",
    "    y_freqs.append(y_freq)\n",
    "    y_phases.append(y_phase)\n",
    "\n",
    "\n",
    "    ppm = np.load(f\"{in_prefix}/ppm_{suffix_a}_{suffix_b}.npy\")\n",
    "    t = np.load(f\"{in_prefix}/t_{suffix_a}_{suffix_b}.npy\")\n",
    "\n",
    "x = np.concatenate(xs,axis=0)\n",
    "y_freq = np.concatenate(y_freqs,axis=0)\n",
    "y_phase = np.concatenate(y_phases,axis=0)"
   ]
  },
  {
   "cell_type": "code",
   "execution_count": 4,
   "metadata": {},
   "outputs": [],
   "source": [
    "x_fid = np.fft.fft(np.fft.ifftshift(x,axes=1),axis=1)\n",
    "x_fid_freq_corrected = x_fid*np.exp(1j*t.reshape(1,-1,1,1)*y_freq*2*math.pi)\n",
    "\n",
    "x_phase = np.fft.fftshift(np.fft.ifft(x_fid_freq_corrected,axis=1),axes=1)"
   ]
  },
  {
   "cell_type": "code",
   "execution_count": 5,
   "metadata": {},
   "outputs": [],
   "source": [
    "x = x[:,512:1536,:,:]\n",
    "x_phase = x_phase[:,512:1536,:,:]\n",
    "y = np.concatenate([y_freq,y_phase],axis=1)\n",
    "np.save(f\"{out_prefix}/x_data_1024_{suffix_a}_x.npy\",x)\n",
    "np.save(f\"{out_prefix}/x_data_phase_1024_{suffix_a}_x.npy\",x_phase)\n",
    "np.save(f\"{out_prefix}/y_data_1024_{suffix_a}_x.npy\",y)"
   ]
  }
 ],
 "metadata": {
  "kernelspec": {
   "display_name": "tf2",
   "language": "python",
   "name": "python3"
  },
  "language_info": {
   "codemirror_mode": {
    "name": "ipython",
    "version": 3
   },
   "file_extension": ".py",
   "mimetype": "text/x-python",
   "name": "python",
   "nbconvert_exporter": "python",
   "pygments_lexer": "ipython3",
   "version": "3.10.8 | packaged by conda-forge | (main, Nov 22 2022, 08:23:14) [GCC 10.4.0]"
  },
  "orig_nbformat": 4,
  "vscode": {
   "interpreter": {
    "hash": "cac9b1749f3703666049b695d56da759c9b2e75ffaa68e2362f8136c1b505553"
   }
  }
 },
 "nbformat": 4,
 "nbformat_minor": 2
}
