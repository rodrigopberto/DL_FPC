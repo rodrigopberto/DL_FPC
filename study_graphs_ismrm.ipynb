{
 "cells": [
  {
   "cell_type": "code",
   "execution_count": 1,
   "metadata": {},
   "outputs": [
    {
     "name": "stderr",
     "output_type": "stream",
     "text": [
      "/home/rodrigo/anaconda3/envs/py39/lib/python3.9/site-packages/scipy/__init__.py:146: UserWarning: A NumPy version >=1.16.5 and <1.23.0 is required for this version of SciPy (detected version 1.23.1\n",
      "  warnings.warn(f\"A NumPy version >={np_minversion} and <{np_maxversion}\"\n"
     ]
    }
   ],
   "source": [
    "import pandas as pd\n",
    "import matplotlib.pyplot as plt\n",
    "import scipy.stats as st\n",
    "import numpy as np\n",
    "import math\n",
    "import seaborn as sns"
   ]
  },
  {
   "cell_type": "code",
   "execution_count": 2,
   "metadata": {},
   "outputs": [],
   "source": [
    "files=[\"sup_2_5_1.csv\",\"unsup_2_5_1.csv\"]\n",
    "dfs=[]\n",
    "for f in files:\n",
    "    dfs.append(pd.read_csv(f\"study_results/{f}\"))\n",
    "df = pd.concat(dfs,sort=False)\n",
    "df[\"abs_freq_error\"]=abs(df[\"freq_error\"])\n",
    "df[\"abs_phase_error\"]=abs(df[\"phase_error\"])\n",
    "df[\"abs_freq_error_std\"]=df[\"abs_freq_error\"]\n",
    "df[\"abs_phase_error_std\"]=df[\"abs_phase_error\"]\n",
    "df[\"freq_mae\"] = df[\"abs_freq_error\"]\n",
    "df[\"freq_std\"] = df[\"abs_freq_error\"]\n",
    "df[\"phase_mae\"] = df[\"abs_phase_error\"]\n",
    "df[\"phase_std\"] = df[\"abs_phase_error\"]"
   ]
  },
  {
   "cell_type": "code",
   "execution_count": 3,
   "metadata": {},
   "outputs": [
    {
     "data": {
      "text/html": [
       "<div>\n",
       "<style scoped>\n",
       "    .dataframe tbody tr th:only-of-type {\n",
       "        vertical-align: middle;\n",
       "    }\n",
       "\n",
       "    .dataframe tbody tr th {\n",
       "        vertical-align: top;\n",
       "    }\n",
       "\n",
       "    .dataframe thead th {\n",
       "        text-align: right;\n",
       "    }\n",
       "</style>\n",
       "<table border=\"1\" class=\"dataframe\">\n",
       "  <thead>\n",
       "    <tr style=\"text-align: right;\">\n",
       "      <th></th>\n",
       "      <th></th>\n",
       "      <th>freq_mae</th>\n",
       "      <th>freq_std</th>\n",
       "      <th>phase_mae</th>\n",
       "      <th>phase_std</th>\n",
       "    </tr>\n",
       "    <tr>\n",
       "      <th>water_suppression</th>\n",
       "      <th>model</th>\n",
       "      <th></th>\n",
       "      <th></th>\n",
       "      <th></th>\n",
       "      <th></th>\n",
       "    </tr>\n",
       "  </thead>\n",
       "  <tbody>\n",
       "    <tr>\n",
       "      <th rowspan=\"3\" valign=\"top\">False</th>\n",
       "      <th>complex</th>\n",
       "      <td>0.014600</td>\n",
       "      <td>0.013147</td>\n",
       "      <td>0.182931</td>\n",
       "      <td>0.154234</td>\n",
       "    </tr>\n",
       "    <tr>\n",
       "      <th>control_ma</th>\n",
       "      <td>0.017664</td>\n",
       "      <td>0.015072</td>\n",
       "      <td>0.268607</td>\n",
       "      <td>0.246889</td>\n",
       "    </tr>\n",
       "    <tr>\n",
       "      <th>control_tapper</th>\n",
       "      <td>0.036873</td>\n",
       "      <td>0.048409</td>\n",
       "      <td>0.329465</td>\n",
       "      <td>0.308213</td>\n",
       "    </tr>\n",
       "    <tr>\n",
       "      <th rowspan=\"3\" valign=\"top\">True</th>\n",
       "      <th>complex</th>\n",
       "      <td>0.330325</td>\n",
       "      <td>0.297446</td>\n",
       "      <td>2.446966</td>\n",
       "      <td>1.934899</td>\n",
       "    </tr>\n",
       "    <tr>\n",
       "      <th>control_ma</th>\n",
       "      <td>0.578778</td>\n",
       "      <td>0.587181</td>\n",
       "      <td>3.545599</td>\n",
       "      <td>2.805533</td>\n",
       "    </tr>\n",
       "    <tr>\n",
       "      <th>control_tapper</th>\n",
       "      <td>0.671415</td>\n",
       "      <td>0.720205</td>\n",
       "      <td>3.627293</td>\n",
       "      <td>2.947612</td>\n",
       "    </tr>\n",
       "  </tbody>\n",
       "</table>\n",
       "</div>"
      ],
      "text/plain": [
       "                                  freq_mae  freq_std  phase_mae  phase_std\n",
       "water_suppression model                                                   \n",
       "False             complex         0.014600  0.013147   0.182931   0.154234\n",
       "                  control_ma      0.017664  0.015072   0.268607   0.246889\n",
       "                  control_tapper  0.036873  0.048409   0.329465   0.308213\n",
       "True              complex         0.330325  0.297446   2.446966   1.934899\n",
       "                  control_ma      0.578778  0.587181   3.545599   2.805533\n",
       "                  control_tapper  0.671415  0.720205   3.627293   2.947612"
      ]
     },
     "execution_count": 3,
     "metadata": {},
     "output_type": "execute_result"
    }
   ],
   "source": [
    "df.groupby([\"water_suppression\",\"model\"]).agg({\"freq_mae\":\"mean\",\"freq_std\":\"std\",\"phase_mae\":\"mean\",\"phase_std\":\"std\"})"
   ]
  },
  {
   "cell_type": "code",
   "execution_count": 7,
   "metadata": {},
   "outputs": [
    {
     "data": {
      "image/png": "[encoded data removed]",
      "text/plain": [
       "<Figure size 720x720 with 4 Axes>"
      ]
     },
     "metadata": {
      "needs_background": "light"
     },
     "output_type": "display_data"
    }
   ],
   "source": [
    "\n",
    "\n",
    "\n",
    "wsups = [False, True]\n",
    "models = [\"control_tapper\",\"control_ma\",\"complex\"]\n",
    "model_labels = [\"MLP\",\"CNN\",\"C_CNN\"]\n",
    "colors = ['seagreen','dodgerblue','coral']\n",
    "markers = ['o','^','s']\n",
    "title_texts=[\"\"]\n",
    "colour_palette = {\"control_tapper\": \"#51A241\", \"control_ma\": \"#13ADF0\", \"complex\": \"#FD6E3D\"}\n",
    "labels = [\"MLP\",\"CNN\",\"C-CNN\"]\n",
    "cols=[\"freq\",\"phase\"]\n",
    "order_dict={\"control_tapper\":1,\"control_ma\":2,\"complex\":3}\n",
    "df = df[df[\"model\"].isin(order_dict.keys())]\n",
    "\n",
    "ylabels = [\"Frequency Prediction Absolute Error [Hz]\",\"Phase Prediction Absolute Error [Degree]\"]\n",
    "titles_p1 = [\"Frequency Error - \",\"Phase Error\"]\n",
    "titles_p2 = [\"Water Unsuppressed\",\"Water Suppressed\"]\n",
    "offsets = [0.04,0.4,0.8,4]\n",
    "\n",
    "fig,ax = plt.subplots(2,2,figsize=(10,10))\n",
    "\n",
    "for i in range(0,2):\n",
    "    for j in range(0,2):\n",
    "        col = cols[j]\n",
    "\n",
    "        i_df = df[df[\"water_suppression\"]==wsups[i]].copy()\n",
    "        i_df[\"mean\"] = i_df[f\"abs_{col}_error\"]\n",
    "        i_df[\"std\"] = i_df[f\"abs_{col}_error\"]\n",
    "        i_df = i_df.groupby(\"model\").agg({\"mean\":\"mean\",\"std\":\"std\"}).reset_index()\n",
    "        i_df['order']=i_df.apply(lambda x: order_dict[x['model']],axis=1)\n",
    "        i_df = i_df.sort_values(\"order\")\n",
    "        ax[i,j].bar(labels,i_df[\"mean\"],yerr=i_df[\"std\"],capsize=10,color=colour_palette.values())\n",
    "        ax[i,j].set_ylabel(ylabels[i])\n",
    "        ax[i,j].set_title(titles_p1[i]+titles_p2[j])\n",
    "        mean_values = list(i_df[\"mean\"])\n",
    "        for k in range(3):\n",
    "            ax[i,j].annotate(f\"MAE: \\n{mean_values[k]:.2e}\",xy=(k+0.27,mean_values[k]*1.1),horizontalalignment=\"center\")\n",
    "\n",
    "fig.suptitle(\"Absolute Prediction Errors - SNR 2.5 Datasets\")\n",
    "fig.tight_layout()\n",
    "#plt.show()\n",
    "plt.savefig(\"figure4.jpg\")"
   ]
  },
  {
   "cell_type": "code",
   "execution_count": null,
   "metadata": {},
   "outputs": [],
   "source": []
  },
  {
   "cell_type": "code",
   "execution_count": 3,
   "metadata": {},
   "outputs": [
    {
     "data": {
      "text/plain": [
       "Index(['Unnamed: 0', 'true_freq', 'pred_freq', 'freq_error', 'true_phase',\n",
       "       'pred_phase', 'phase_error', 'model', 'water_suppression', 'snr',\n",
       "       'training_run', 'abs_freq_error', 'abs_phase_error',\n",
       "       'abs_freq_error_std', 'abs_phase_error_std'],\n",
       "      dtype='object')"
      ]
     },
     "execution_count": 3,
     "metadata": {},
     "output_type": "execute_result"
    }
   ],
   "source": [
    "df.columns"
   ]
  },
  {
   "cell_type": "code",
   "execution_count": 6,
   "metadata": {},
   "outputs": [
    {
     "data": {
      "text/html": [
       "<div>\n",
       "<style scoped>\n",
       "    .dataframe tbody tr th:only-of-type {\n",
       "        vertical-align: middle;\n",
       "    }\n",
       "\n",
       "    .dataframe tbody tr th {\n",
       "        vertical-align: top;\n",
       "    }\n",
       "\n",
       "    .dataframe thead th {\n",
       "        text-align: right;\n",
       "    }\n",
       "</style>\n",
       "<table border=\"1\" class=\"dataframe\">\n",
       "  <thead>\n",
       "    <tr style=\"text-align: right;\">\n",
       "      <th>water_suppression</th>\n",
       "      <th>False</th>\n",
       "      <th>True</th>\n",
       "    </tr>\n",
       "    <tr>\n",
       "      <th>model</th>\n",
       "      <th></th>\n",
       "      <th></th>\n",
       "    </tr>\n",
       "  </thead>\n",
       "  <tbody>\n",
       "    <tr>\n",
       "      <th>complex</th>\n",
       "      <td>0.014600</td>\n",
       "      <td>0.330325</td>\n",
       "    </tr>\n",
       "    <tr>\n",
       "      <th>control_ma</th>\n",
       "      <td>0.017664</td>\n",
       "      <td>0.578778</td>\n",
       "    </tr>\n",
       "    <tr>\n",
       "      <th>control_tapper</th>\n",
       "      <td>0.036873</td>\n",
       "      <td>0.671415</td>\n",
       "    </tr>\n",
       "  </tbody>\n",
       "</table>\n",
       "</div>"
      ],
      "text/plain": [
       "water_suppression     False      True\n",
       "model                                \n",
       "complex            0.014600  0.330325\n",
       "control_ma         0.017664  0.578778\n",
       "control_tapper     0.036873  0.671415"
      ]
     },
     "execution_count": 6,
     "metadata": {},
     "output_type": "execute_result"
    }
   ],
   "source": [
    "df.groupby([\"model\",\"water_suppression\"]).agg({\"abs_freq_error\":\"mean\"}).reset_index().pivot(index=\"model\",columns=\"water_suppression\",values=\"abs_freq_error\")"
   ]
  },
  {
   "cell_type": "code",
   "execution_count": 5,
   "metadata": {},
   "outputs": [
    {
     "data": {
      "text/html": [
       "<div>\n",
       "<style scoped>\n",
       "    .dataframe tbody tr th:only-of-type {\n",
       "        vertical-align: middle;\n",
       "    }\n",
       "\n",
       "    .dataframe tbody tr th {\n",
       "        vertical-align: top;\n",
       "    }\n",
       "\n",
       "    .dataframe thead th {\n",
       "        text-align: right;\n",
       "    }\n",
       "</style>\n",
       "<table border=\"1\" class=\"dataframe\">\n",
       "  <thead>\n",
       "    <tr style=\"text-align: right;\">\n",
       "      <th>water_suppression</th>\n",
       "      <th>False</th>\n",
       "      <th>True</th>\n",
       "    </tr>\n",
       "    <tr>\n",
       "      <th>model</th>\n",
       "      <th></th>\n",
       "      <th></th>\n",
       "    </tr>\n",
       "  </thead>\n",
       "  <tbody>\n",
       "    <tr>\n",
       "      <th>complex</th>\n",
       "      <td>0.182931</td>\n",
       "      <td>2.446966</td>\n",
       "    </tr>\n",
       "    <tr>\n",
       "      <th>control_ma</th>\n",
       "      <td>0.268607</td>\n",
       "      <td>3.545599</td>\n",
       "    </tr>\n",
       "    <tr>\n",
       "      <th>control_tapper</th>\n",
       "      <td>0.329465</td>\n",
       "      <td>3.627293</td>\n",
       "    </tr>\n",
       "  </tbody>\n",
       "</table>\n",
       "</div>"
      ],
      "text/plain": [
       "water_suppression     False      True\n",
       "model                                \n",
       "complex            0.182931  2.446966\n",
       "control_ma         0.268607  3.545599\n",
       "control_tapper     0.329465  3.627293"
      ]
     },
     "execution_count": 5,
     "metadata": {},
     "output_type": "execute_result"
    }
   ],
   "source": [
    "df.groupby([\"model\",\"water_suppression\"]).agg({\"abs_phase_error\":\"mean\"}).reset_index().pivot(index=\"model\",columns=\"water_suppression\",values=\"abs_phase_error\")"
   ]
  },
  {
   "cell_type": "code",
   "execution_count": 7,
   "metadata": {},
   "outputs": [],
   "source": [
    "##sample\n",
    "sample_data = {\n",
    "    \"complex\":{\n",
    "        \"mean\":1,\n",
    "        \"std\":0.2,\n",
    "    },\n",
    "    \"base\":{\n",
    "        \"mean\":1,\n",
    "        \"std\":0.4\n",
    "    }\n",
    "}"
   ]
  },
  {
   "cell_type": "code",
   "execution_count": 8,
   "metadata": {},
   "outputs": [
    {
     "data": {
      "image/png": "[encoded data removed]",
      "text/plain": [
       "<Figure size 432x288 with 1 Axes>"
      ]
     },
     "metadata": {
      "needs_background": "light"
     },
     "output_type": "display_data"
    }
   ],
   "source": [
    "def make_bar_graph_comparison(data,ax):\n",
    "    bar_means = [i[\"mean\"] for i in data.values()]\n",
    "    erro_bars = [i[\"std\"] for i in data.values()]\n",
    "    labels = [i for i in data]\n",
    "    #colors = [i[\"color\"] for i in data.values()]\n",
    "    for i in range(len(data)):\n",
    "        ax.bar(labels[i],bar_means[i],yerr=erro_bars[i],capsize=10)\n",
    "\n",
    "\n",
    "    #x1,x2 = 0,1\n",
    "    #y,h = 1.2,0.2\n",
    "    #ax.plot([x1, x1, x2, x2], [y, y+h, y+h, y], lw=1.5, c='k')\n",
    "    #ax.text((x1+x2)*.5, y+h, \"*\", ha='center', va='bottom')\n",
    "\n",
    "wsups = [False,False,True,True]\n",
    "phase = [False,True,False,True]\n",
    "\n",
    "\n",
    "#fig,ax = plt.subplots(2,2)\n",
    "\n",
    "\n",
    "\n",
    "fig,ax = plt.subplots()\n",
    "make_bar_graph_comparison(sample_data,ax)\n",
    "plt.show()"
   ]
  },
  {
   "cell_type": "code",
   "execution_count": 9,
   "metadata": {},
   "outputs": [
    {
     "data": {
      "text/plain": [
       "Index(['Unnamed: 0', 'true_freq', 'pred_freq', 'freq_error', 'true_phase',\n",
       "       'pred_phase', 'phase_error', 'model', 'water_suppression', 'snr',\n",
       "       'training_run', 'abs_freq_error', 'abs_phase_error',\n",
       "       'abs_freq_error_std', 'abs_phase_error_std', 'freq_mae', 'freq_std',\n",
       "       'phase_mae', 'phase_std'],\n",
       "      dtype='object')"
      ]
     },
     "execution_count": 9,
     "metadata": {},
     "output_type": "execute_result"
    }
   ],
   "source": [
    "df.columns"
   ]
  },
  {
   "cell_type": "code",
   "execution_count": 10,
   "metadata": {},
   "outputs": [
    {
     "data": {
      "image/png": "[encoded data removed]",
      "text/plain": [
       "<Figure size 432x288 with 4 Axes>"
      ]
     },
     "metadata": {
      "needs_background": "light"
     },
     "output_type": "display_data"
    }
   ],
   "source": [
    "fig,ax = plt.subplots(2,2)\n",
    "\n",
    "\n",
    "wsups = [False, True]\n",
    "\n",
    "models = [\"control_tapper\",\"control_ma\",\"complex\"]\n",
    "model_labels = [\"MLP\",\"CNN\",\"C_CNN\"]\n",
    "colors = ['seagreen','dodgerblue','coral']\n",
    "markers = ['o','^','s']\n",
    "title_texts=[\"\"]\n",
    "colour_palette = {\"control_tapper\": \"#51A241\", \"control_ma\": \"#13ADF0\", \"complex\": \"#FD6E3D\"}\n",
    "cols=[\"freq\",\"phase\"]\n",
    "\n",
    "order_dict={\"control_tapper\":1,\"control_ma\":2,\"complex\":3}\n",
    "\n",
    "df = df[df[\"model\"].isin(order_dict.keys())]\n",
    "\n",
    "for i in range(0,2):\n",
    "    for j in range(0,2):\n",
    "        col = cols[j]\n",
    "\n",
    "        i_df = df[df[\"water_suppression\"]==wsups[i]].copy()\n",
    "        i_df[\"mean\"] = i_df[f\"abs_{col}_error\"]\n",
    "        i_df[\"std\"] = i_df[f\"abs_{col}_error\"]\n",
    "        i_df = i_df.groupby(\"model\").agg({\"mean\":\"mean\",\"std\":\"std\"}).reset_index()\n",
    "        i_df['order']=i_df.apply(lambda x: order_dict[x['model']],axis=1)\n",
    "        i_df = i_df.sort_values(\"order\")\n",
    "        data={}\n",
    "        for k in range(i_df.shape[0]):\n",
    "            data[i_df[\"model\"][k]] = {\n",
    "                \"mean\":i_df[\"mean\"][k],\n",
    "                \"std\":i_df[\"std\"][k]\n",
    "            }\n",
    "        make_bar_graph_comparison(data,ax[i,j])\n",
    "        \n",
    "        \n",
    "        \n",
    "\n",
    "plt.show()\n",
    "\n"
   ]
  }
 ],
 "metadata": {
  "kernelspec": {
   "display_name": "Python 3",
   "language": "python",
   "name": "python3"
  },
  "language_info": {
   "codemirror_mode": {
    "name": "ipython",
    "version": 3
   },
   "file_extension": ".py",
   "mimetype": "text/x-python",
   "name": "python",
   "nbconvert_exporter": "python",
   "pygments_lexer": "ipython3",
   "version": "3.10.6 (main, Nov 14 2022, 16:10:14) [GCC 11.3.0]"
  },
  "orig_nbformat": 4,
  "vscode": {
   "interpreter": {
    "hash": "916dbcbb3f70747c44a77c7bcd40155683ae19c65e1c03b4aa3499c5328201f1"
   }
  }
 },
 "nbformat": 4,
 "nbformat_minor": 2
}
