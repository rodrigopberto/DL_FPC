{
 "cells": [
  {
   "cell_type": "code",
   "execution_count": 1,
   "metadata": {},
   "outputs": [],
   "source": [
    "fastapi_server_ip = \"http://ec2-35-183-115-250.ca-central-1.compute.amazonaws.com\""
   ]
  },
  {
   "cell_type": "code",
   "execution_count": 3,
   "metadata": {},
   "outputs": [
    {
     "name": "stdout",
     "output_type": "stream",
     "text": [
      "<Response [200]>\n",
      "{'message': 'pong'}\n"
     ]
    }
   ],
   "source": [
    "import requests \n",
    "r = requests.get(url=f\"{fastapi_server_ip}/ping\")\n",
    "\n",
    "print(r)\n",
    "print(r.json())"
   ]
  }
 ],
 "metadata": {
  "kernelspec": {
   "display_name": "Python 3.9.12 ('py39')",
   "language": "python",
   "name": "python3"
  },
  "language_info": {
   "codemirror_mode": {
    "name": "ipython",
    "version": 3
   },
   "file_extension": ".py",
   "mimetype": "text/x-python",
   "name": "python",
   "nbconvert_exporter": "python",
   "pygments_lexer": "ipython3",
   "version": "3.9.12"
  },
  "orig_nbformat": 4,
  "vscode": {
   "interpreter": {
    "hash": "71c2687a61a6ba7c03c42c0577897f278b18f1085518ab9806b54460ea1fe67c"
   }
  }
 },
 "nbformat": 4,
 "nbformat_minor": 2
}
