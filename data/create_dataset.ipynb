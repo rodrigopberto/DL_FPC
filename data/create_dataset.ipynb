{
 "cells": [
  {
   "cell_type": "code",
   "execution_count": 1,
   "metadata": {},
   "outputs": [
    {
     "name": "stderr",
     "output_type": "stream",
     "text": [
      "/home/rodrigo/anaconda3/envs/py39/lib/python3.9/site-packages/scipy/__init__.py:146: UserWarning: A NumPy version >=1.16.5 and <1.23.0 is required for this version of SciPy (detected version 1.23.1\n",
      "  warnings.warn(f\"A NumPy version >={np_minversion} and <{np_maxversion}\"\n"
     ]
    }
   ],
   "source": [
    "from spectra import Spectra\n",
    "import numpy as np\n",
    "import matplotlib.pyplot as plt"
   ]
  },
  {
   "cell_type": "code",
   "execution_count": 4,
   "metadata": {},
   "outputs": [
    {
     "name": "stdout",
     "output_type": "stream",
     "text": [
      "Mean SNR (Water Unsup) is 10.055709761306701 and Std Dev is 2.4580875967655844\n"
     ]
    }
   ],
   "source": [
    "## simulation parameters\n",
    "\n",
    "#previously used arguments will be saved for records\n",
    "\n",
    "#create_simulated_dataset(\"Unsup\",\"_unsup_2_5\",16,5)\n",
    "#Mean SNR (Water Unsup) is 2.575164358578593 and Std Dev is 0.6913887125670769\n",
    "\n",
    "#create_simulated_dataset(\"Unsup\",\"_unsup_5\",7.5,3)\n",
    "#Mean SNR (Water Unsup) is 4.9142298415942465 and Std Dev is 1.6535384608901584\n",
    "\n",
    "#create_simulated_dataset(\"Unsup\",\"_unsup_10\",3.5,1)\n",
    "#Mean SNR (Water Unsup) is 9.799043876447383 and Std Dev is 2.8530347175303623\n",
    "\n",
    "#create_simulated_dataset(\"Sup\",\"_sup_2_5\",16,5)\n",
    "#Mean SNR (Water Unsup) is 2.2931368924596245 and Std Dev is 0.543460556970006\n",
    "\n",
    "#create_simulated_dataset(\"Sup\",\"_sup_5\",7,3)\n",
    "#Mean SNR (Water Unsup) is 4.909138679775567 and Std Dev is 1.4432091980587023\n",
    "\n",
    "#create_simulated_dataset(\"Sup\",\"_sup_10\",3.1,1)\n",
    "#Mean SNR (Water Unsup) is 10.055709761306701 and Std Dev is 2.4580875967655844"
   ]
  },
  {
   "cell_type": "code",
   "execution_count": 3,
   "metadata": {},
   "outputs": [],
   "source": [
    "def create_simulated_dataset(in_suffix,out_suffix,amp_base,amp_var):\n",
    "\n",
    "    prefix = \"fpc_sim_data/\"\n",
    "    out_prefix=\"noisy_datasets\"\n",
    "\n",
    "    num_scans, num_trans = 250, 160\n",
    "\n",
    "    spec = Spectra()\n",
    "    spec.load_from_ground_truth_csvs(f\"{prefix}fidsON_{in_suffix}.csv\", f\"{prefix}fidsOFF_{in_suffix}.csv\", f\"{prefix}ppm_{in_suffix}.csv\", f\"{prefix}t_{in_suffix}.csv\")\n",
    "    spec.select_scans(0, num_scans)\n",
    "    spec.make_transients(transient_count=num_trans*2)\n",
    "\n",
    "    rfn_base,  rfn_var = 10, 10\n",
    "    lfn_base, lfn_var = 7, 3\n",
    "    rpn_base, rpn_var = 60, 30\n",
    "    ran_base, ran_var = amp_base, amp_var\n",
    "\n",
    "    spec.add_random_amplitude_noise(noise_level_base=ran_base, noise_level_scan_var=ran_var)\n",
    "    spec.add_random_frequency_noise(noise_level_base=rfn_base, noise_level_scan_var=rfn_var)\n",
    "    spec.add_linear_frequency_noise(offset_var=lfn_base, slope_var=lfn_var)\n",
    "    spec.add_random_phase_noise(noise_level_base=rpn_base, noise_level_scan_var=rpn_var)\n",
    "    ###################################################################################################################\n",
    "    # Verification of Results (SNR, FPC Range)\n",
    "    ###################################################################################################################\n",
    "    new_ppm = spec.ppm[0, :]\n",
    "    new_ppm = np.squeeze(np.ndarray.round(new_ppm, 2))\n",
    "    Cr_indClose, Cr_indFar = np.amax(np.where(new_ppm == 2.8)), np.amin(np.where(new_ppm == 3.2))\n",
    "    dt_indClose, dt_indFar = np.amax(np.where(new_ppm == 10.0)), np.amin(np.where(new_ppm == 10.8))\n",
    "    old_on_scans = spec.specs\n",
    "    Cr_SNR, Cr_SNR1 = np.zeros((num_scans, num_trans)), np.zeros((num_scans, num_trans))\n",
    "\n",
    "    for k in range(num_scans):\n",
    "        for j in range(num_trans):\n",
    "            on_specs = old_on_scans[k, :, 1, j]\n",
    "            on_specs = np.squeeze(on_specs)\n",
    "            # Amp of peak\n",
    "            max_peak = np.amax(on_specs[Cr_indFar:Cr_indClose])\n",
    "            # Std Dev of Noise\n",
    "            dt = np.polyfit(new_ppm[dt_indFar:dt_indClose], on_specs[dt_indFar:dt_indClose], 2)\n",
    "            \n",
    "            sizeFreq = new_ppm[dt_indFar:dt_indClose].shape[0]\n",
    "            stdev_Man = np.sqrt(np.sum(np.square(np.real(on_specs[dt_indFar:dt_indClose] - np.polyval(dt, new_ppm[dt_indFar:dt_indClose])))) / (sizeFreq - 1))\n",
    "            Cr_SNR[k, j] = np.real(max_peak) / (2 * stdev_Man)\n",
    "            \n",
    "            #print(f\"SNR of (Water Unsup) scan {k} transient {j} is {Cr_SNR[k, j]}\")\n",
    "            #print(f\"SNR of (Water Sup) scan {k} transient {j} is {Cr_SNR1[k, j]}\")\n",
    "\n",
    "    print(f\"Mean SNR (Water Unsup) is {np.mean(Cr_SNR)} and Std Dev is {np.std(Cr_SNR)}\")\n",
    "\n",
    "    ###################################################################################################################\n",
    "    # Saving Results\n",
    "    ###################################################################################################################\n",
    "    x_data = spec.specs\n",
    "    y_data_freq = -spec.added_noise[\"frequency_drift\"]\n",
    "    y_data_phase = -spec.added_noise[\"phase_drift\"]\n",
    "    off_fids = spec.fids[:, :, 0, :]\n",
    "    on_fids = spec.fids[:, :, 1, :]\n",
    "    ppm = spec.ppm[0].flatten()\n",
    "    t = spec.t[0].flatten()\n",
    "\n",
    "    np.save(f\"{out_prefix}/x_data{out_suffix}.npy\", x_data)\n",
    "    np.save(f\"{out_prefix}/y_dataFreq{out_suffix}.npy\", y_data_freq)\n",
    "    np.save(f\"{out_prefix}/y_dataPhase{out_suffix}.npy\", y_data_phase)\n",
    "    np.save(f\"{out_prefix}/off_fids{out_suffix}.npy\", off_fids)\n",
    "    np.save(f\"{out_prefix}/on_fids{out_suffix}.npy\", on_fids)\n",
    "    np.save(f\"{out_prefix}/ppm{out_suffix}.npy\",ppm)\n",
    "    np.save(f\"{out_prefix}/t{out_suffix}.npy\",t)\n",
    "\n"
   ]
  }
 ],
 "metadata": {
  "kernelspec": {
   "display_name": "tf2",
   "language": "python",
   "name": "python3"
  },
  "language_info": {
   "codemirror_mode": {
    "name": "ipython",
    "version": 3
   },
   "file_extension": ".py",
   "mimetype": "text/x-python",
   "name": "python",
   "nbconvert_exporter": "python",
   "pygments_lexer": "ipython3",
   "version": "3.10.8 | packaged by conda-forge | (main, Nov 22 2022, 08:23:14) [GCC 10.4.0]"
  },
  "orig_nbformat": 4,
  "vscode": {
   "interpreter": {
    "hash": "cac9b1749f3703666049b695d56da759c9b2e75ffaa68e2362f8136c1b505553"
   }
  }
 },
 "nbformat": 4,
 "nbformat_minor": 2
}
