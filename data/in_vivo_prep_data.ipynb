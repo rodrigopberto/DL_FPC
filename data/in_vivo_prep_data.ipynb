{
 "cells": [
  {
   "cell_type": "code",
   "execution_count": 21,
   "metadata": {},
   "outputs": [],
   "source": [
    "import numpy as np\n",
    "from scipy.io import loadmat\n",
    "import matplotlib.pyplot as plt\n",
    "import random\n",
    "import math"
   ]
  },
  {
   "cell_type": "code",
   "execution_count": 2,
   "metadata": {},
   "outputs": [],
   "source": [
    "def read_transients(filename):\n",
    "\n",
    "    data = loadmat(filename)\n",
    "\n",
    "    transients = data['out_transients']\n",
    "\n",
    "    t = transients[0][0][0].flatten()\n",
    "    ppm = transients[0][0][1].flatten()\n",
    "    fid1 = transients[0][0][2]\n",
    "    fid2 = transients[0][0][3]\n",
    "\n",
    "    return {\n",
    "        \"t\":t,\n",
    "        \"ppm\":ppm,\n",
    "        \"fid1\":fid1,\n",
    "        \"fid2\":fid2\n",
    "    }\n"
   ]
  },
  {
   "cell_type": "code",
   "execution_count": 14,
   "metadata": {},
   "outputs": [],
   "source": [
    "sites = [5,7,8]\n",
    "scans=list(range(1,13))"
   ]
  },
  {
   "cell_type": "code",
   "execution_count": 29,
   "metadata": {},
   "outputs": [],
   "source": [
    "### no freq or phase offset\n",
    "fids = []\n",
    "for st in sites:\n",
    "    for sc in scans:\n",
    "        fid_obj = read_transients(\"in_vivo_raw/ge_{:02d}_{:02d}.mat\".format(st,sc))\n",
    "        on = fid_obj[\"fid1\"].reshape(1,2048,1,160)\n",
    "        off = fid_obj[\"fid2\"].reshape(1,2048,1,160)\n",
    "        fid = np.concatenate([off,on],axis=2)\n",
    "        fids.append(fid)\n",
    "final_fids = np.concatenate(fids,axis=0)\n",
    "\n",
    "np.save(\"in_vivo_datasets/in_vivo_0.npy\",final_fids)"
   ]
  },
  {
   "cell_type": "code",
   "execution_count": 30,
   "metadata": {},
   "outputs": [],
   "source": [
    "### small offsets\n",
    "## freq < 5Hz\n",
    "## phase < 20Hz\n",
    "min_freq=0\n",
    "max_freq=5\n",
    "min_phase=0\n",
    "max_phase=20\n",
    "fids = []\n",
    "for st in sites:\n",
    "    for sc in scans:\n",
    "        fid_obj = read_transients(\"in_vivo_raw/ge_{:02d}_{:02d}.mat\".format(st,sc))\n",
    "\n",
    "        on = fid_obj[\"fid1\"].reshape(1,2048,1,160)\n",
    "        off = fid_obj[\"fid2\"].reshape(1,2048,1,160)\n",
    "        t = fid_obj[\"t\"]\n",
    "\n",
    "\n",
    "        on_freq_shift = np.random.uniform(min_freq,max_freq,size=(1,1,1,160))*np.random.choice([-1,1],size=(1,1,1,160),replace=True)\n",
    "        on_phase_shift = np.random.uniform(min_phase,max_phase,size=(1,1,1,160))*np.random.choice([-1,1],size=(1,1,1,160),replace=True)\n",
    "        on = on*np.exp(1j*(on_freq_shift*t.reshape(1,2048,1,1)*2*math.pi + on_phase_shift*math.pi/180))\n",
    "\n",
    "        off_freq_shift = np.random.uniform(min_freq,max_freq,size=(1,1,1,160))*np.random.choice([-1,1],size=(1,1,1,160),replace=True)\n",
    "        off_phase_shift = np.random.uniform(min_phase,max_phase,size=(1,1,1,160))*np.random.choice([-1,1],size=(1,1,1,160),replace=True)\n",
    "        off = off*np.exp(1j*(off_freq_shift*t.reshape(1,2048,1,1)*2*math.pi + off_phase_shift*math.pi/180))\n",
    "\n",
    "        fid = np.concatenate([off,on],axis=2)\n",
    "        fids.append(fid)\n",
    "final_fids = np.concatenate(fids,axis=0)\n",
    "\n",
    "np.save(\"in_vivo_datasets/in_vivo_1.npy\",final_fids)"
   ]
  },
  {
   "cell_type": "code",
   "execution_count": 31,
   "metadata": {},
   "outputs": [],
   "source": [
    "### medium offsets\n",
    "## 5 < freq < 10Hz\n",
    "## 20 < phase < 40Hz\n",
    "min_freq=5\n",
    "max_freq=10\n",
    "min_phase=20\n",
    "max_phase=40\n",
    "fids = []\n",
    "for st in sites:\n",
    "    for sc in scans:\n",
    "        fid_obj = read_transients(\"in_vivo_raw/ge_{:02d}_{:02d}.mat\".format(st,sc))\n",
    "\n",
    "        on = fid_obj[\"fid1\"].reshape(1,2048,1,160)\n",
    "        off = fid_obj[\"fid2\"].reshape(1,2048,1,160)\n",
    "        t = fid_obj[\"t\"]\n",
    "\n",
    "\n",
    "        on_freq_shift = np.random.uniform(min_freq,max_freq,size=(1,1,1,160))*np.random.choice([-1,1],size=(1,1,1,160),replace=True)\n",
    "        on_phase_shift = np.random.uniform(min_phase,max_phase,size=(1,1,1,160))*np.random.choice([-1,1],size=(1,1,1,160),replace=True)\n",
    "        on = on*np.exp(1j*(on_freq_shift*t.reshape(1,2048,1,1)*2*math.pi + on_phase_shift*math.pi/180))\n",
    "\n",
    "        off_freq_shift = np.random.uniform(min_freq,max_freq,size=(1,1,1,160))*np.random.choice([-1,1],size=(1,1,1,160),replace=True)\n",
    "        off_phase_shift = np.random.uniform(min_phase,max_phase,size=(1,1,1,160))*np.random.choice([-1,1],size=(1,1,1,160),replace=True)\n",
    "        off = off*np.exp(1j*(off_freq_shift*t.reshape(1,2048,1,1)*2*math.pi + off_phase_shift*math.pi/180))\n",
    "\n",
    "        fid = np.concatenate([off,on],axis=2)\n",
    "        fids.append(fid)\n",
    "final_fids = np.concatenate(fids,axis=0)\n",
    "\n",
    "np.save(\"in_vivo_datasets/in_vivo_2.npy\",final_fids)"
   ]
  },
  {
   "cell_type": "code",
   "execution_count": 32,
   "metadata": {},
   "outputs": [],
   "source": [
    "### large offsets\n",
    "## 10 < freq < 20Hz\n",
    "## 45 < phase < 90Hz\n",
    "min_freq=10\n",
    "max_freq=20\n",
    "min_phase=45\n",
    "max_phase=90\n",
    "fids = []\n",
    "for st in sites:\n",
    "    for sc in scans:\n",
    "        fid_obj = read_transients(\"in_vivo_raw/ge_{:02d}_{:02d}.mat\".format(st,sc))\n",
    "\n",
    "        on = fid_obj[\"fid1\"].reshape(1,2048,1,160)\n",
    "        off = fid_obj[\"fid2\"].reshape(1,2048,1,160)\n",
    "        t = fid_obj[\"t\"]\n",
    "\n",
    "\n",
    "        on_freq_shift = np.random.uniform(min_freq,max_freq,size=(1,1,1,160))*np.random.choice([-1,1],size=(1,1,1,160),replace=True)\n",
    "        on_phase_shift = np.random.uniform(min_phase,max_phase,size=(1,1,1,160))*np.random.choice([-1,1],size=(1,1,1,160),replace=True)\n",
    "        on = on*np.exp(1j*(on_freq_shift*t.reshape(1,2048,1,1)*2*math.pi + on_phase_shift*math.pi/180))\n",
    "\n",
    "        off_freq_shift = np.random.uniform(min_freq,max_freq,size=(1,1,1,160))*np.random.choice([-1,1],size=(1,1,1,160),replace=True)\n",
    "        off_phase_shift = np.random.uniform(min_phase,max_phase,size=(1,1,1,160))*np.random.choice([-1,1],size=(1,1,1,160),replace=True)\n",
    "        off = off*np.exp(1j*(off_freq_shift*t.reshape(1,2048,1,1)*2*math.pi + off_phase_shift*math.pi/180))\n",
    "\n",
    "        fid = np.concatenate([off,on],axis=2)\n",
    "        fids.append(fid)\n",
    "final_fids = np.concatenate(fids,axis=0)\n",
    "\n",
    "np.save(\"in_vivo_datasets/in_vivo_3.npy\",final_fids)"
   ]
  },
  {
   "cell_type": "code",
   "execution_count": 26,
   "metadata": {},
   "outputs": [],
   "source": [
    "# save t and ppm\n",
    "fid_obj = read_transients(\"in_vivo_raw/ge_05_01.mat\")\n",
    "t = fid_obj[\"t\"]\n",
    "ppm = fid_obj[\"ppm\"]\n",
    "np.save(\"in_vivo_datasets/t.npy\",t)\n",
    "np.save(\"in_vivo_datasets/ppm.npy\",ppm)"
   ]
  },
  {
   "cell_type": "code",
   "execution_count": 40,
   "metadata": {},
   "outputs": [
    {
     "data": {
      "image/png": "[encoded data removed]",
      "text/plain": [
       "<Figure size 432x288 with 1 Axes>"
      ]
     },
     "metadata": {
      "needs_background": "light"
     },
     "output_type": "display_data"
    }
   ],
   "source": [
    "###sanity check\n",
    "\n",
    "scan = 3\n",
    "dataset = 3\n",
    "\n",
    "ppm = np.load(\"in_vivo_datasets/ppm.npy\")\n",
    "test_fids = np.load(f\"in_vivo_datasets/in_vivo_{dataset}.npy\")\n",
    "test_specs = np.fft.fftshift(np.fft.ifft(test_fids,axis=1),axes=1)\n",
    "\n",
    "on = test_specs[scan,:,1,:].mean(axis=1)\n",
    "off = test_specs[scan,:,0,:].mean(axis=1)\n",
    "\n",
    "plt.plot(ppm,np.real(on-off))\n",
    "plt.xlim(0,5)\n",
    "plt.show()\n"
   ]
  },
  {
   "cell_type": "code",
   "execution_count": null,
   "metadata": {},
   "outputs": [],
   "source": []
  }
 ],
 "metadata": {
  "kernelspec": {
   "display_name": "tf2",
   "language": "python",
   "name": "python3"
  },
  "language_info": {
   "codemirror_mode": {
    "name": "ipython",
    "version": 3
   },
   "file_extension": ".py",
   "mimetype": "text/x-python",
   "name": "python",
   "nbconvert_exporter": "python",
   "pygments_lexer": "ipython3",
   "version": "3.10.8 | packaged by conda-forge | (main, Nov 22 2022, 08:23:14) [GCC 10.4.0]"
  },
  "orig_nbformat": 4,
  "vscode": {
   "interpreter": {
    "hash": "cac9b1749f3703666049b695d56da759c9b2e75ffaa68e2362f8136c1b505553"
   }
  }
 },
 "nbformat": 4,
 "nbformat_minor": 2
}
